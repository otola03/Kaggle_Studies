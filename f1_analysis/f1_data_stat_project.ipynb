{
 "cells": [
  {
   "cell_type": "markdown",
   "id": "02d00382",
   "metadata": {},
   "source": [
    "# Formula 1 Dataset Analysis (2001~2024)"
   ]
  },
  {
   "cell_type": "markdown",
   "id": "2fc01d28",
   "metadata": {},
   "source": [
    "## Why data from 2001?\n",
    "Formula 1 cars undergo regulation changes regularly. While regulation change is motivated for the drivers' safety, cost control, and closer competition, it affects the car performance massively - resetting constructor dominance every year.\n",
    "In 2001, the massive regulation change was introduced - front & rear wing changes, crash standards tightening, driver aids, such as traction control, being reintroduced.   \\\n",
    "Because Formula 1 cars are different year by year, older data from 20th century may be irrelevant. Also, the oldest driver on the current grid, Fernando Alonso, joined Formula 1 in 2001, which makes 2001 a meaningful data. "
   ]
  },
  {
   "cell_type": "markdown",
   "id": "87b9f714",
   "metadata": {},
   "source": [
    "### Data\n",
    "- results: race results, with starting positions and final result.\n",
    "- races: information of each race\n",
    "- drivers: information of each driver\n",
    "- qualifying: information of qualifying session \n",
    "- pit_stops: data of pit stops during races\n",
    "- sprint_results: sprint race results (introduced in 2021)"
   ]
  },
  {
   "cell_type": "markdown",
   "id": "64eb173c",
   "metadata": {},
   "source": [
    "### Loading packages and data"
   ]
  },
  {
   "cell_type": "code",
   "execution_count": 34,
   "id": "61690ff7",
   "metadata": {},
   "outputs": [],
   "source": [
    "import pandas as pd\n",
    "import numpy as np\n",
    "import matplotlib.pyplot as plt\n",
    "import seaborn as sns\n",
    "\n",
    "results = pd.read_csv('./data/results.csv', na_values='\\\\N')\n",
    "races = pd.read_csv('./data/races.csv', na_values='\\\\N')\n",
    "drivers = pd.read_csv('./data/drivers.csv', na_values='\\\\N')\n",
    "qualifying = pd.read_csv('./data/qualifying.csv', na_values='\\\\N')\n",
    "pit_stops = pd.read_csv('./data/pit_stops.csv', na_values='\\\\N')\n",
    "sprint_results = pd.read_csv('./data/sprint_results.csv', na_values='\\\\N')"
   ]
  },
  {
   "cell_type": "markdown",
   "id": "fbefe889",
   "metadata": {},
   "source": [
    "### Clean data"
   ]
  },
  {
   "cell_type": "markdown",
   "id": "b78591f1",
   "metadata": {},
   "source": [
    "#### Filtering years (2001~2024)"
   ]
  },
  {
   "cell_type": "code",
   "execution_count": 42,
   "id": "5441dd61",
   "metadata": {},
   "outputs": [],
   "source": [
    "# filter year 2001~2024 (start by races.csv because it has year information)\n",
    "races = races.loc[races['year'].isin(range(2001, 2025))].sort_values(by=['year', 'round']).reset_index(drop=True)\n",
    "# races.head(5)\n",
    "\n",
    "# filter year for other datasets\n",
    "results = results.loc[results['raceId'].isin(races['raceId'])].sort_values(by=['resultId', 'position']).reset_index(drop=True)\n",
    "# results.head(5)\n",
    "\n",
    "drivers = drivers.loc[drivers['driverId'].isin(results['driverId'])].sort_values(by='driverId').reset_index(drop=True)\n",
    "# drivers.head(5)\n",
    "\n",
    "qualifying = qualifying.loc[qualifying['raceId'].isin(races['raceId'])].sort_values(by=['raceId', 'position']).reset_index(drop=True)\n",
    "qualifying.head(5)\n",
    "\n",
    "pit_stops['time'] = pd.to_datetime(pit_stops['time'], format='%H:%M:%S').dt.time\n",
    "# pit_stops.dtypes\n",
    "pit_stops = pit_stops.loc[pit_stops['raceId'].isin(races['raceId'])].sort_values(by=['raceId', 'time']).reset_index(drop=True)\n",
    "# pit_stops.head(5)\n",
    "\n",
    "sprint_results = sprint_results.loc[sprint_results['raceId'].isin(races['raceId'])].sort_values(by=['raceId', 'position']).reset_index(drop=True)\n",
    "# sprint_results.dtypes => reveals that 'position' column is not in integer type, hindering the accurate sort order.\n",
    "sprint_results['position'] = sprint_results['position'].astype('Int64') # int64 is used to handle \\N (NA) values\n",
    "# sprint_results.dtypes\n",
    "# sprint_results.head(10)"
   ]
  },
  {
   "cell_type": "markdown",
   "id": "4dce07e6",
   "metadata": {},
   "source": [
    "#### Checking duplicates (Deduplication)"
   ]
  },
  {
   "cell_type": "code",
   "execution_count": 44,
   "id": "1b7d3a3b",
   "metadata": {},
   "outputs": [
    {
     "name": "stdout",
     "output_type": "stream",
     "text": [
      "0\n",
      "0\n",
      "0\n",
      "0\n",
      "0\n",
      "0\n"
     ]
    }
   ],
   "source": [
    "print(races.duplicated().sum())\n",
    "print(results.duplicated().sum())\n",
    "print(drivers.duplicated().sum())\n",
    "print(qualifying.duplicated().sum())\n",
    "print(pit_stops.duplicated().sum())\n",
    "print(sprint_results.duplicated().sum())"
   ]
  },
  {
   "cell_type": "markdown",
   "id": "ea9fc364",
   "metadata": {},
   "source": [
    "Great, it seems there are no duplicates in these data!\n"
   ]
  },
  {
   "cell_type": "markdown",
   "id": "8c9d6481",
   "metadata": {},
   "source": [
    "### EDA"
   ]
  },
  {
   "cell_type": "code",
   "execution_count": null,
   "id": "a85a208c",
   "metadata": {},
   "outputs": [],
   "source": []
  }
 ],
 "metadata": {
  "kernelspec": {
   "display_name": "base",
   "language": "python",
   "name": "python3"
  },
  "language_info": {
   "codemirror_mode": {
    "name": "ipython",
    "version": 3
   },
   "file_extension": ".py",
   "mimetype": "text/x-python",
   "name": "python",
   "nbconvert_exporter": "python",
   "pygments_lexer": "ipython3",
   "version": "3.11.4"
  }
 },
 "nbformat": 4,
 "nbformat_minor": 5
}
