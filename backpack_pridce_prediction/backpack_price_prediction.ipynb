{
 "cells": [
  {
   "cell_type": "markdown",
   "metadata": {},
   "source": [
    "## Use Random Forest Tree"
   ]
  },
  {
   "cell_type": "code",
   "execution_count": 3,
   "metadata": {},
   "outputs": [],
   "source": [
    "from sklearn.ensemble import RandomForestRegressor\n",
    "from sklearn.metrics import root_mean_squared_error # because the competition uses RMSE \n",
    "from sklearn.model_selection import train_test_split\n",
    "\n",
    "import pandas as pd\n"
   ]
  },
  {
   "cell_type": "code",
   "execution_count": 4,
   "metadata": {},
   "outputs": [],
   "source": [
    "backpack_data = pd.read_csv('./train.csv')\n",
    "backpack_data_extra = pd.read_csv('./training_extra.csv')\n",
    "# Filter rows with missing values\n",
    "backpack_data = backpack_data.dropna(axis=0) # Drop rows \n",
    "backpack_data.head()\n",
    "backpack_data.Brand.describe()\n",
    "\n",
    "backpack_data_full = pd.concat([backpack_data, backpack_data_extra])"
   ]
  },
  {
   "cell_type": "code",
   "execution_count": 5,
   "metadata": {},
   "outputs": [
    {
     "data": {
      "text/plain": [
       "<Figure size 1000x600 with 0 Axes>"
      ]
     },
     "metadata": {},
     "output_type": "display_data"
    },
    {
     "data": {
      "image/png": "[encoded data removed]",
      "text/plain": [
       "<Figure size 640x480 with 1 Axes>"
      ]
     },
     "metadata": {},
     "output_type": "display_data"
    }
   ],
   "source": [
    "import matplotlib.pyplot as plt\n",
    "plt.figure(figsize=(10, 6))\n",
    "backpack_data_full.boxplot(column='Price', by='Brand', grid=False)\n",
    "plt.title('( Price - Brand )')\n",
    "plt.xlabel('Brand')\n",
    "plt.ylabel('Price')\n",
    "plt.show()"
   ]
  },
  {
   "cell_type": "markdown",
   "metadata": {},
   "source": [
    "`ValueError: could not convert string to float: 'Puma'`  \n",
    "Random Forest Tree cannot handle String, but only Number\n",
    "---\n",
    "\n",
    "Use ```pd.get_dummies()```"
   ]
  },
  {
   "cell_type": "code",
   "execution_count": 6,
   "metadata": {},
   "outputs": [],
   "source": [
    "# Target : Price\n",
    "y = backpack_data_full.Price\n",
    "# Factors\n",
    "backpack_features = ['Brand', 'Material', 'Size', 'Compartments', 'Weight Capacity (kg)', 'Color']\n",
    "X = backpack_data_full[backpack_features]\n",
    "X_to_numeric = pd.get_dummies(X)\n",
    "\n",
    "# Split into test and train data\n",
    "X_train, X_val, y_train, y_val = train_test_split(X_to_numeric, y, random_state=1)"
   ]
  },
  {
   "cell_type": "code",
   "execution_count": null,
   "metadata": {},
   "outputs": [
    {
     "name": "stdout",
     "output_type": "stream",
     "text": [
      "41.54574978968205\n"
     ]
    }
   ],
   "source": [
    "# Creating Random Forest Tree\n",
    "# Takes appx. 41m\n",
    "rft = RandomForestRegressor(random_state=1, n_estimators=100) \n",
    "# Takes appx. 3m 20s\n",
    "# rft = RandomForestRegressor(random_state=1, n_estimators=1) # training rft (reduce complexity)\n",
    "# Train\n",
    "rft.fit(X_train, y_train)                                                                                                                            \n",
    "preds = rft.predict(X_val)\n",
    "rmse = root_mean_squared_error(y_val, preds)\n",
    "print(rmse)"
   ]
  },
  {
   "cell_type": "code",
   "execution_count": null,
   "metadata": {},
   "outputs": [],
   "source": [
    "# # Extra training\n",
    "# backpack_data_extra = pd.read_csv('./training_extra.csv')\n",
    "# y_e = backpack_data_extra.Price\n",
    "# X_e = backpack_data_extra[backpack_features]                                         \n",
    "# X_to_numeric_e = pd.get_dummies(X_e)\n",
    "\n",
    "# X_train_e, X_val_e, y_train_e, y_val_e = train_test_split(X_to_numeric_e, y_e, random_state=1)\n",
    "\n",
    "# rft.fit(X_train_e, y_train_e)\n",
    "# preds = rft.predict(X_val_e)\n",
    "# rmse_e = root_mean_squared_error(y_val_e, preds)\n",
    "# print(rmse_e)"
   ]
  },
  {
   "cell_type": "code",
   "execution_count": 10,
   "metadata": {},
   "outputs": [
    {
     "name": "stdout",
     "output_type": "stream",
     "text": [
      "            id       Price\n",
      "0       300000   87.313935\n",
      "1       300001   86.581284\n",
      "2       300002  101.926869\n",
      "3       300003  102.828889\n",
      "4       300004   81.720422\n",
      "...        ...         ...\n",
      "199995  499995   52.926661\n",
      "199996  499996   90.105741\n",
      "199997  499997   59.602983\n",
      "199998  499998   85.330609\n",
      "199999  499999   80.402347\n",
      "\n",
      "[200000 rows x 2 columns]\n"
     ]
    }
   ],
   "source": [
    "# Apply to test.csv\n",
    "backpack_data_test = pd.read_csv('./test.csv')\n",
    "X_test = backpack_data_test[backpack_features]\n",
    "X_test_numeric = pd.get_dummies(X_test)\n",
    "X_test_numeric = X_test_numeric.reindex(columns=X_to_numeric.columns, fill_value=0) # Align the columns of test set to match training set\n",
    "preds_test = rft.predict(X_test_numeric)\n",
    "# print(preds_test)\n",
    "# print(type(preds_test))\n",
    "\n",
    "# id, Price\n",
    "result = pd.DataFrame({\n",
    "    'id': backpack_data_test.id,\n",
    "    'Price': preds_test,\n",
    "})\n",
    "print(result)\n",
    "result.to_csv('submission.csv', index=False)"
   ]
  }
 ],
 "metadata": {
  "kernelspec": {
   "display_name": "Python 3",
   "language": "python",
   "name": "python3"
  },
  "language_info": {
   "codemirror_mode": {
    "name": "ipython",
    "version": 3
   },
   "file_extension": ".py",
   "mimetype": "text/x-python",
   "name": "python",
   "nbconvert_exporter": "python",
   "pygments_lexer": "ipython3",
   "version": "3.11.4"
  }
 },
 "nbformat": 4,
 "nbformat_minor": 2
}
